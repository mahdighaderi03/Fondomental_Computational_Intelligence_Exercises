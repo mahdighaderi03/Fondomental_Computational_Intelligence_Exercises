{
 "cells": [
  {
   "cell_type": "markdown",
   "metadata": {},
   "source": [
    "#### \"Identifying A and B with Hebb Neural Network\"\n",
    "This notebook demonstrates the implementation of a Hebbian Neural Network to identify and distinguish between two patterns, A and B. It includes step-by-step explanations of the Hebb learning rule, the training process, and testing the network's performance on pattern recognition tasks."
   ]
  },
  {
   "cell_type": "code",
   "execution_count": 1,
   "metadata": {},
   "outputs": [],
   "source": [
    "import numpy as np"
   ]
  },
  {
   "cell_type": "code",
   "execution_count": 5,
   "metadata": {},
   "outputs": [],
   "source": [
    "# Hebbian Learning Rule function\n",
    "def hebbian_learning(input_vectors, target_outputs):\n",
    "    # Initialize weights and bias to zero\n",
    "    num_inputs = input_vectors.shape[1]  # Number of input features\n",
    "    weights = np.zeros(num_inputs)\n",
    "    bias = 0\n",
    "\n",
    "    # Iterate over all input-target pairs\n",
    "    for input_vector, target_output in zip(input_vectors, target_outputs):\n",
    "        # Update weights and bias according to Hebbian learning rule\n",
    "        weights += input_vector * target_output\n",
    "        bias += target_output\n",
    "\n",
    "        print(f\"Updated weights: {weights}\")\n",
    "        print(f\"Updated bias: {bias}\")\n",
    "    \n",
    "    return weights, bias\n"
   ]
  },
  {
   "cell_type": "code",
   "execution_count": 6,
   "metadata": {},
   "outputs": [],
   "source": [
    "# Example input vectors for letters 'A' and 'B' (flattened 5x5 binary pattern)\n",
    "input_vectors = np.array([\n",
    "    [1, -1, 1, -1, 1, 1, 1, 1, 1, 1, -1, 1, -1, 1, -1, 1, -1, 1, -1, 1, 1, -1, 1, -1, 1],  # Pattern A\n",
    "    [1, 1, 1, 1, -1, 1, -1, -1, -1, 1, 1, 1, 1, -1, 1, 1, -1, -1, -1, 1, 1, 1, 1, 1, -1]   # Pattern B\n",
    "])"
   ]
  },
  {
   "cell_type": "code",
   "execution_count": 7,
   "metadata": {},
   "outputs": [],
   "source": [
    "# Corresponding target outputs for patterns A and B (arbitrary)\n",
    "target_outputs = np.array([1, -1])  # Example target outputs"
   ]
  },
  {
   "cell_type": "code",
   "execution_count": 8,
   "metadata": {},
   "outputs": [
    {
     "name": "stdout",
     "output_type": "stream",
     "text": [
      "Updated weights: [ 1. -1.  1. -1.  1.  1.  1.  1.  1.  1. -1.  1. -1.  1. -1.  1. -1.  1.\n",
      " -1.  1.  1. -1.  1. -1.  1.]\n",
      "Updated bias: 1\n",
      "Updated weights: [ 0. -2.  0. -2.  2.  0.  2.  2.  2.  0. -2.  0. -2.  2. -2.  0.  0.  2.\n",
      "  0.  0.  0. -2.  0. -2.  2.]\n",
      "Updated bias: 0\n"
     ]
    }
   ],
   "source": [
    "# Apply Hebbian learning\n",
    "weights, bias = hebbian_learning(input_vectors, target_outputs)"
   ]
  },
  {
   "cell_type": "code",
   "execution_count": 9,
   "metadata": {},
   "outputs": [
    {
     "name": "stdout",
     "output_type": "stream",
     "text": [
      "\n",
      "Final weights: [ 0. -2.  0. -2.  2.  0.  2.  2.  2.  0. -2.  0. -2.  2. -2.  0.  0.  2.\n",
      "  0.  0.  0. -2.  0. -2.  2.]\n",
      "Final bias: 0\n"
     ]
    }
   ],
   "source": [
    "print(\"\\nFinal weights:\", weights)\n",
    "print(\"Final bias:\", bias)"
   ]
  },
  {
   "cell_type": "code",
   "execution_count": 10,
   "metadata": {},
   "outputs": [],
   "source": [
    "# Function to retrieve pattern using learned weights and bias\n",
    "def retrieve_pattern(input_vector, weights, bias):\n",
    "    output = np.dot(input_vector, weights) + bias\n",
    "    return np.sign(output)  # Return the sign of the weighted sum (either -1 or 1)\n"
   ]
  },
  {
   "cell_type": "code",
   "execution_count": 11,
   "metadata": {},
   "outputs": [],
   "source": [
    "# Function to add noise by flipping `flip_count` random bits\n",
    "def add_noise(input_vector, flip_count):\n",
    "    noisy_vector = input_vector.copy()\n",
    "    flip_indices = np.random.choice(len(input_vector), size=flip_count, replace=False)\n",
    "    noisy_vector[flip_indices] *= -1  # Flip the bits\n",
    "    return noisy_vector"
   ]
  },
  {
   "cell_type": "code",
   "execution_count": 12,
   "metadata": {},
   "outputs": [],
   "source": [
    "# Test the network with noisy patterns\n",
    "def test_network(weights, bias, input_vectors, target_outputs, noise_levels):\n",
    "    for noise in noise_levels:\n",
    "        print(f\"\\nTesting with noise level: {noise} flipped bits\")\n",
    "        for idx, original_vector in enumerate(input_vectors):\n",
    "            noisy_vector = add_noise(original_vector, noise)  # Create a noisy input\n",
    "            retrieved_output = retrieve_pattern(noisy_vector, weights, bias)\n",
    "            correct_output = target_outputs[idx]\n",
    "            is_correct = retrieved_output == correct_output\n",
    "            print(f\"Original pattern {idx + 1} - Correctly Retrieved: {is_correct}\")\n"
   ]
  },
  {
   "cell_type": "code",
   "execution_count": 13,
   "metadata": {},
   "outputs": [],
   "source": [
    "# Define noise levels (number of flipped bits) to test\n",
    "noise_levels = [0, 2, 5, 10]  # Try with 0, 2, 5, and 10 bit flips"
   ]
  },
  {
   "cell_type": "code",
   "execution_count": 14,
   "metadata": {},
   "outputs": [
    {
     "name": "stdout",
     "output_type": "stream",
     "text": [
      "\n",
      "Testing with noise level: 0 flipped bits\n",
      "Original pattern 1 - Correctly Retrieved: True\n",
      "Original pattern 2 - Correctly Retrieved: True\n",
      "\n",
      "Testing with noise level: 2 flipped bits\n",
      "Original pattern 1 - Correctly Retrieved: True\n",
      "Original pattern 2 - Correctly Retrieved: True\n",
      "\n",
      "Testing with noise level: 5 flipped bits\n",
      "Original pattern 1 - Correctly Retrieved: True\n",
      "Original pattern 2 - Correctly Retrieved: True\n",
      "\n",
      "Testing with noise level: 10 flipped bits\n",
      "Original pattern 1 - Correctly Retrieved: False\n",
      "Original pattern 2 - Correctly Retrieved: True\n"
     ]
    }
   ],
   "source": [
    "# Test the network with noisy inputs\n",
    "test_network(weights, bias, input_vectors, target_outputs, noise_levels)"
   ]
  }
 ],
 "metadata": {
  "kernelspec": {
   "display_name": "Python 3",
   "language": "python",
   "name": "python3"
  },
  "language_info": {
   "codemirror_mode": {
    "name": "ipython",
    "version": 3
   },
   "file_extension": ".py",
   "mimetype": "text/x-python",
   "name": "python",
   "nbconvert_exporter": "python",
   "pygments_lexer": "ipython3",
   "version": "3.11.9"
  }
 },
 "nbformat": 4,
 "nbformat_minor": 2
}
