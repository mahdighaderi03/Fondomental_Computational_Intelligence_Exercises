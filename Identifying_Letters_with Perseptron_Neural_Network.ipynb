{
 "cells": [
  {
   "cell_type": "markdown",
   "metadata": {},
   "source": [
    "#### \"Identifying Letters with Perceptron Neural Network\"\n",
    "This notebook demonstrates the implementation of a Perceptron Neural Network for recognizing and classifying letter patterns. It includes a detailed explanation of the perceptron algorithm, the training process for binary classification, and the evaluation of the network's performance on letter identification tasks.\n"
   ]
  },
  {
   "cell_type": "code",
   "execution_count": 71,
   "metadata": {},
   "outputs": [],
   "source": [
    "import numpy as np"
   ]
  },
  {
   "cell_type": "code",
   "execution_count": 72,
   "metadata": {},
   "outputs": [],
   "source": [
    "# Pattern for 'س' (Seen)\n",
    "seen = np.array([\n",
    "    [0, 0, 0, 0, 0, 0, 0, 0],\n",
    "    [0, 0, 0, 0, 0, 0, 0, 0],\n",
    "    [0, 1, 0, 1, 0, 1, 0, 1],\n",
    "    [0, 1, 0, 1, 1, 1, 1, 1],\n",
    "    [0, 1, 0, 1, 0, 0, 0, 0],\n",
    "    [0, 1, 1, 1, 0, 0, 0, 0],\n",
    "    [0, 0, 0, 0, 0, 0, 0, 0],\n",
    "    [0, 0, 0, 0, 0, 0, 0, 0]\n",
    "])\n",
    "\n",
    "# Pattern for 'ج' (Jeem)\n",
    "jeem = np.array([\n",
    "    [0, 0, 1, 1, 1, 1, 0, 0],\n",
    "    [0, 0, 0, 0, 1, 1, 0, 0],\n",
    "    [0, 0, 0, 1, 0, 0, 0, 0],\n",
    "    [0, 0, 1, 0, 0, 0, 0, 0],\n",
    "    [0, 1, 0, 0, 1, 0, 0, 0],\n",
    "    [0, 1, 0, 0, 0, 0, 0, 0],\n",
    "    [0, 0, 1, 0, 0, 0, 0, 0],\n",
    "    [0, 0, 0, 1, 1, 1, 0, 0]\n",
    "])\n",
    "\n",
    "# Pattern for 'گ' (Gaaf)\n",
    "gaaf = np.array([\n",
    "    [0, 0, 0, 0, 0, 0, 0, 0],\n",
    "    [0, 0, 0, 0, 0, 1, 0, 1],\n",
    "    [0, 0, 0, 0, 1, 0, 1, 0],\n",
    "    [0, 0, 0, 0, 0, 1, 0, 0],\n",
    "    [1, 0, 0, 0, 1, 0, 0, 0],\n",
    "    [1, 0, 0, 0, 1, 0, 0, 0],\n",
    "    [1, 1, 1, 1, 1, 0, 0, 0],\n",
    "    [0, 0, 0, 0, 0, 0, 0, 0]\n",
    "])"
   ]
  },
  {
   "cell_type": "code",
   "execution_count": 73,
   "metadata": {},
   "outputs": [],
   "source": [
    "# Labels for each pattern\n",
    "y = np.array([\n",
    "    [1, 0, 0],  # Label for 'س'\n",
    "    [0, 1, 0],  # Label for 'ج'\n",
    "    [0, 0, 1]   # Label for 'گ'\n",
    "])"
   ]
  },
  {
   "cell_type": "code",
   "execution_count": 74,
   "metadata": {},
   "outputs": [],
   "source": [
    "#Initialize Perceptron Parameters\n",
    "\n",
    "# For reproducibility\n",
    "np.random.seed(0)  \n",
    "# Weights for 64 inputs and 3 output neurons\n",
    "weights = np.random.rand(64, 3)  \n",
    "# Bias term for each output neuron\n",
    "bias = np.random.rand(1, 3)      \n",
    "learning_rate = 0.1"
   ]
  },
  {
   "cell_type": "code",
   "execution_count": 75,
   "metadata": {},
   "outputs": [],
   "source": [
    "#Activation Function (Binary Step Function)\n",
    "def step_function(x):\n",
    "    return np.where(x >= 0, 1, 0)"
   ]
  },
  {
   "cell_type": "code",
   "execution_count": 76,
   "metadata": {},
   "outputs": [
    {
     "name": "stdout",
     "output_type": "stream",
     "text": [
      "Epoch 0, Loss: 2\n",
      "Epoch 1, Loss: 2\n",
      "Epoch 2, Loss: 2\n",
      "Epoch 3, Loss: 1\n",
      "Epoch 4, Loss: 0\n",
      "Epoch 5, Loss: 0\n",
      "Epoch 6, Loss: 0\n",
      "Epoch 7, Loss: 0\n",
      "Epoch 8, Loss: 0\n",
      "Epoch 9, Loss: 0\n"
     ]
    }
   ],
   "source": [
    "# Training the Perceptron\n",
    "epochs = 10  \n",
    "for epoch in range(epochs):\n",
    "    for i in range(len(X)):\n",
    "        # Calculate y_in\n",
    "        y_in = bias + np.dot(X[i], weights)\n",
    "        \n",
    "        # Apply activation function\n",
    "        predictions = step_function(y_in)\n",
    "        \n",
    "        # Calculate the error\n",
    "        errors = y[i] - predictions\n",
    "        \n",
    "        # Update weights and bias using the provided formula\n",
    "        weights += learning_rate * np.outer(X[i], errors)\n",
    "        bias += learning_rate * errors\n",
    "\n",
    "    # Print loss for each epoch\n",
    "    loss = np.sum(errors**2)\n",
    "    print(f\"Epoch {epoch}, Loss: {loss}\")"
   ]
  },
  {
   "cell_type": "code",
   "execution_count": 77,
   "metadata": {},
   "outputs": [],
   "source": [
    "# Testing and Calculating Accuracy\n",
    "correct_predictions = 0\n",
    "total_patterns = len(X)\n"
   ]
  },
  {
   "cell_type": "code",
   "execution_count": 78,
   "metadata": {},
   "outputs": [
    {
     "name": "stdout",
     "output_type": "stream",
     "text": [
      "Test Pattern 1 Prediction: [[1 0 0]], Actual: [1 0 0]\n",
      "Test Pattern 2 Prediction: [[0 1 0]], Actual: [0 1 0]\n",
      "Test Pattern 3 Prediction: [[0 0 1]], Actual: [0 0 1]\n"
     ]
    }
   ],
   "source": [
    "for i in range(total_patterns):\n",
    "    # Calculate y_in for testing\n",
    "    y_in = bias + np.dot(X[i], weights) \n",
    "    # Get predictions\n",
    "    output = step_function(y_in)\n",
    "    # Compare output with the true label\n",
    "    if np.array_equal(output, y[i]):  \n",
    "        correct_predictions += 1\n",
    "    print(f\"Test Pattern {i + 1} Prediction: {output}, Actual: {y[i]}\")\n"
   ]
  },
  {
   "cell_type": "code",
   "execution_count": 79,
   "metadata": {},
   "outputs": [],
   "source": [
    "#To modify the input data of the patterns for 'س' (Seen), 'ج' (Jeem), and 'گ' (Gaaf) by 20%, we will randomly change 20% of the pixels (values) in each pattern."
   ]
  },
  {
   "cell_type": "code",
   "execution_count": 80,
   "metadata": {},
   "outputs": [],
   "source": [
    "# Function to introduce 20% noise in the patterns\n",
    "def introduce_noise(pattern, noise_percentage=0.2):\n",
    "    num_elements = pattern.size\n",
    "    num_noisy_elements = int(num_elements * noise_percentage)\n",
    "    \n",
    "    # Randomly select indices to change\n",
    "    indices = np.random.choice(num_elements, num_noisy_elements, replace=False)\n",
    "    \n",
    "    # Convert the pattern to a flat array\n",
    "    flat_pattern = pattern.flatten()\n",
    "    \n",
    "    # Change the selected indices to their flipped values\n",
    "    for idx in indices:\n",
    "        flat_pattern[idx] = 1 - flat_pattern[idx]  # Flip 0 to 1 and 1 to 0\n",
    "    \n",
    "    # Reshape back to the original shape\n",
    "    return flat_pattern.reshape(pattern.shape)\n"
   ]
  },
  {
   "cell_type": "code",
   "execution_count": 81,
   "metadata": {},
   "outputs": [],
   "source": [
    "# Introduce noise in each pattern\n",
    "seen_noisy = introduce_noise(seen)\n",
    "jeem_noisy = introduce_noise(jeem)\n",
    "gaaf_noisy = introduce_noise(gaaf)"
   ]
  },
  {
   "cell_type": "code",
   "execution_count": 82,
   "metadata": {},
   "outputs": [],
   "source": [
    "# Flatten each 8x8 matrix to a 64-dimensional vector\n",
    "X = np.array([seen_noisy.flatten(), jeem_noisy.flatten(), gaaf_noisy.flatten()])\n",
    "\n",
    "# Labels for each pattern (1-hot encoded)\n",
    "y = np.array([\n",
    "    [1, 0, 0],  # Label for 'س'\n",
    "    [0, 1, 0],  # Label for 'ج'\n",
    "    [0, 0, 1]   # Label for 'گ'\n",
    "])"
   ]
  },
  {
   "cell_type": "code",
   "execution_count": 83,
   "metadata": {},
   "outputs": [],
   "source": [
    "# Initialize Perceptron Parameters\n",
    "\n",
    "# For reproducibility\n",
    "np.random.seed(0)  \n",
    "# Weights for 64 inputs and 3 output neurons\n",
    "weights = np.random.rand(64, 3)\n",
    "# Bias term for each output neuron\n",
    "bias = np.random.rand(1, 3)\n",
    "learning_rate = 0.1\n"
   ]
  },
  {
   "cell_type": "code",
   "execution_count": 84,
   "metadata": {},
   "outputs": [],
   "source": [
    "# Step 4: Activation Function (Binary Step Function)\n",
    "def step_function(x):\n",
    "    return np.where(x >= 0.5, 1, 0)"
   ]
  },
  {
   "cell_type": "code",
   "execution_count": 85,
   "metadata": {},
   "outputs": [
    {
     "name": "stdout",
     "output_type": "stream",
     "text": [
      "Epoch 0, Loss: 2\n",
      "Epoch 1, Loss: 2\n",
      "Epoch 2, Loss: 2\n",
      "Epoch 3, Loss: 1\n",
      "Epoch 4, Loss: 0\n",
      "Epoch 5, Loss: 0\n",
      "Epoch 6, Loss: 0\n",
      "Epoch 7, Loss: 0\n",
      "Epoch 8, Loss: 0\n",
      "Epoch 9, Loss: 0\n"
     ]
    }
   ],
   "source": [
    "# Training the Perceptron\n",
    "epochs = 10  # Set to 10 epochs\n",
    "for epoch in range(epochs):\n",
    "    for i in range(len(X)):\n",
    "        # Calculate y_in\n",
    "        y_in = bias + np.dot(X[i], weights)\n",
    "        \n",
    "        # Apply activation function\n",
    "        predictions = step_function(y_in)\n",
    "        \n",
    "        # Calculate the error\n",
    "        errors = y[i] - predictions\n",
    "        \n",
    "        # Update weights and bias using the provided formula\n",
    "        weights += learning_rate * np.outer(X[i], errors)\n",
    "        bias += learning_rate * errors\n",
    "\n",
    "    # Print loss for each epoch\n",
    "    loss = np.sum(errors**2)\n",
    "    print(f\"Epoch {epoch}, Loss: {loss}\")\n"
   ]
  },
  {
   "cell_type": "code",
   "execution_count": 86,
   "metadata": {},
   "outputs": [],
   "source": [
    "# Testing and Calculating Accuracy\n",
    "correct_predictions = 0\n",
    "total_patterns = len(X)"
   ]
  },
  {
   "cell_type": "code",
   "execution_count": 87,
   "metadata": {},
   "outputs": [
    {
     "name": "stdout",
     "output_type": "stream",
     "text": [
      "Test Pattern 1 Prediction: [[1 0 0]], Actual: [1 0 0]\n",
      "Test Pattern 2 Prediction: [[0 1 0]], Actual: [0 1 0]\n",
      "Test Pattern 3 Prediction: [[0 0 1]], Actual: [0 0 1]\n"
     ]
    }
   ],
   "source": [
    "\n",
    "for i in range(total_patterns):\n",
    "     # Calculate y_in for testing\n",
    "    y_in = bias + np.dot(X[i], weights)\n",
    "    # Get predictions\n",
    "    output = step_function(y_in) \n",
    "    # Compare output with the true label\n",
    "    if np.array_equal(output, y[i]):  \n",
    "        correct_predictions += 1\n",
    "    print(f\"Test Pattern {i + 1} Prediction: {output}, Actual: {y[i]}\")"
   ]
  }
 ],
 "metadata": {
  "kernelspec": {
   "display_name": "Python 3",
   "language": "python",
   "name": "python3"
  },
  "language_info": {
   "codemirror_mode": {
    "name": "ipython",
    "version": 3
   },
   "file_extension": ".py",
   "mimetype": "text/x-python",
   "name": "python",
   "nbconvert_exporter": "python",
   "pygments_lexer": "ipython3",
   "version": "3.11.9"
  }
 },
 "nbformat": 4,
 "nbformat_minor": 2
}
